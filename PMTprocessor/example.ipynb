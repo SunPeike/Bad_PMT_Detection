{
 "cells": [
  {
   "cell_type": "markdown",
   "id": "8899db69",
   "metadata": {},
   "source": [
    "## Welcome to PMTprocessor! You can try to execute the following blocks "
   ]
  },
  {
   "cell_type": "markdown",
   "id": "57c86931",
   "metadata": {},
   "source": [
    "### import PMTprocessor"
   ]
  },
  {
   "cell_type": "code",
   "execution_count": null,
   "id": "ada14712",
   "metadata": {},
   "outputs": [],
   "source": [
    "import PMTprocessor"
   ]
  },
  {
   "cell_type": "markdown",
   "id": "1de64492",
   "metadata": {},
   "source": [
    "### set the path of your data folder"
   ]
  },
  {
   "cell_type": "code",
   "execution_count": null,
   "id": "71b7a171",
   "metadata": {},
   "outputs": [],
   "source": [
    "##This is an example of path, you should replace it with your path\n",
    "folderpath = \"/Users/peikesun/Documents/Year3/project/inputs\"\n",
    "filepath = \"/Users/peikesun/Documents/Year3/project/inputs/values_100002.txt\""
   ]
  },
  {
   "cell_type": "markdown",
   "id": "965a5bd4",
   "metadata": {},
   "source": [
    "### read a single file into a dataframe"
   ]
  },
  {
   "cell_type": "code",
   "execution_count": null,
   "id": "88380990",
   "metadata": {},
   "outputs": [],
   "source": [
    "PMTprocessor.read_file(filepath)"
   ]
  },
  {
   "cell_type": "markdown",
   "id": "37777c1b",
   "metadata": {},
   "source": [
    "### read all files in a folder into a dataframe"
   ]
  },
  {
   "cell_type": "code",
   "execution_count": null,
   "id": "3b542d0b",
   "metadata": {},
   "outputs": [],
   "source": [
    "PMTprocessor.read_files(folderpath)"
   ]
  },
  {
   "cell_type": "markdown",
   "id": "2ccfdf9b",
   "metadata": {},
   "source": [
    "### clean your dataframe "
   ]
  },
  {
   "cell_type": "code",
   "execution_count": null,
   "id": "b00e1f14",
   "metadata": {},
   "outputs": [],
   "source": [
    "PMTprocessor.overall_data_clean(folderpath)"
   ]
  },
  {
   "cell_type": "markdown",
   "id": "0ba30dcd",
   "metadata": {},
   "source": [
    "### extract the first five rows, and complete the whole range of charge"
   ]
  },
  {
   "cell_type": "code",
   "execution_count": null,
   "id": "3e785676",
   "metadata": {},
   "outputs": [],
   "source": [
    "PMTprocessor.data_completion(folderpath)"
   ]
  },
  {
   "cell_type": "code",
   "execution_count": null,
   "id": "45bc52d7",
   "metadata": {},
   "outputs": [],
   "source": []
  }
 ],
 "metadata": {
  "kernelspec": {
   "display_name": "Python 3 (ipykernel)",
   "language": "python",
   "name": "python3"
  },
  "language_info": {
   "codemirror_mode": {
    "name": "ipython",
    "version": 3
   },
   "file_extension": ".py",
   "mimetype": "text/x-python",
   "name": "python",
   "nbconvert_exporter": "python",
   "pygments_lexer": "ipython3",
   "version": "3.9.12"
  }
 },
 "nbformat": 4,
 "nbformat_minor": 5
}
