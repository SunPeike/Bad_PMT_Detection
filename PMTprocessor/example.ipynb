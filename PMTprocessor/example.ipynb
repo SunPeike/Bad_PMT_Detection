{
 "cells": [
  {
   "cell_type": "markdown",
   "id": "8899db69",
   "metadata": {},
   "source": [
    "## Welcome to PMTprocessor! You can try to execute the following blocks "
   ]
  },
  {
   "cell_type": "markdown",
   "id": "57c86931",
   "metadata": {},
   "source": [
    "### import PMTprocessor"
   ]
  },
  {
   "cell_type": "code",
   "execution_count": null,
   "id": "ada14712",
   "metadata": {},
   "outputs": [],
   "source": [
    "import PMTprocessor"
   ]
  },
  {
   "cell_type": "markdown",
   "id": "1de64492",
   "metadata": {},
   "source": [
    "### set the path of your data folder"
   ]
  },
  {
   "cell_type": "code",
   "execution_count": null,
   "id": "71b7a171",
   "metadata": {},
   "outputs": [],
   "source": [
    "##This is an example of path, you should replace it with your path\n",
    "folderpath = \"/Users/peikesun/Documents/Year3/project/input\"\n",
    "filepath = \"/Users/peikesun/Documents/Year3/project/inputs/values_100002.txt\""
   ]
  },
  {
   "cell_type": "markdown",
   "id": "965a5bd4",
   "metadata": {},
   "source": [
    "### read a single file into a dataframe"
   ]
  },
  {
   "cell_type": "code",
   "execution_count": null,
   "id": "88380990",
   "metadata": {},
   "outputs": [],
   "source": [
    "PMTprocessor.read_file(filepath)"
   ]
  },
  {
   "cell_type": "markdown",
   "id": "37777c1b",
   "metadata": {},
   "source": [
    "### read all files in a folder into a dataframe"
   ]
  },
  {
   "cell_type": "code",
   "execution_count": null,
   "id": "3b542d0b",
   "metadata": {},
   "outputs": [],
   "source": [
    "PMTprocessor.read_files(folderpath)"
   ]
  },
  {
   "cell_type": "markdown",
   "id": "2ccfdf9b",
   "metadata": {},
   "source": [
    "### clean your dataframe "
   ]
  },
  {
   "cell_type": "code",
   "execution_count": null,
   "id": "b00e1f14",
   "metadata": {},
   "outputs": [],
   "source": [
    "PMTprocessor.overall_data_clean(folderpath)"
   ]
  },
  {
   "cell_type": "markdown",
   "id": "4a85e108",
   "metadata": {},
   "source": [
    "### extract the first five rows"
   ]
  },
  {
   "cell_type": "code",
   "execution_count": null,
   "id": "54472e8b",
   "metadata": {},
   "outputs": [],
   "source": [
    "# PMTprocessor.first_five_column(folderpath)\n",
    "PMTprocessor.relocate_5_columns(folderpath)"
   ]
  },
  {
   "cell_type": "markdown",
   "id": "0ba30dcd",
   "metadata": {},
   "source": [
    "### extract the first five rows, and complete the whole range of charge"
   ]
  },
  {
   "cell_type": "code",
   "execution_count": null,
   "id": "3e785676",
   "metadata": {},
   "outputs": [],
   "source": [
    "PMTprocessor.data_completion(folderpath)"
   ]
  },
  {
   "cell_type": "markdown",
   "id": "b58c5250",
   "metadata": {},
   "source": [
    "### pie chart using all rows"
   ]
  },
  {
   "cell_type": "code",
   "execution_count": null,
   "id": "b974f859",
   "metadata": {},
   "outputs": [],
   "source": [
    "PMTprocessor.pie_all_rows(folderpath)"
   ]
  },
  {
   "cell_type": "markdown",
   "id": "cf77493a",
   "metadata": {},
   "source": [
    "### reproduce the SNO+ preliminary graph"
   ]
  },
  {
   "cell_type": "code",
   "execution_count": null,
   "id": "c9d68607",
   "metadata": {},
   "outputs": [],
   "source": [
    "PMTprocessor.SNOPreliminary(folderpath)"
   ]
  },
  {
   "cell_type": "markdown",
   "id": "6f75aa7b",
   "metadata": {},
   "source": [
    "### one-to-one scatter plot"
   ]
  },
  {
   "cell_type": "code",
   "execution_count": null,
   "id": "aa0e2853",
   "metadata": {},
   "outputs": [],
   "source": [
    "PMTprocessor.scatter_5_columns(folderpath)"
   ]
  },
  {
   "cell_type": "markdown",
   "id": "05b1b1f1",
   "metadata": {},
   "source": [
    "### LPA model, only on qhs_neg and qhs_main"
   ]
  },
  {
   "cell_type": "code",
   "execution_count": null,
   "id": "35b37248",
   "metadata": {},
   "outputs": [],
   "source": [
    "PMTprocessor.LPA_neg_main(folderpath)"
   ]
  },
  {
   "cell_type": "markdown",
   "id": "d919c603",
   "metadata": {},
   "source": [
    "### visualize that model (may take some time)"
   ]
  },
  {
   "cell_type": "code",
   "execution_count": null,
   "id": "a4d8406a",
   "metadata": {},
   "outputs": [],
   "source": [
    "PMTprocessor.graphLPA_neg_main(folderpath)"
   ]
  },
  {
   "cell_type": "markdown",
   "id": "86eb2180",
   "metadata": {},
   "source": [
    "### LPA model, using all columns"
   ]
  },
  {
   "cell_type": "code",
   "execution_count": null,
   "id": "4c5c646b",
   "metadata": {},
   "outputs": [],
   "source": [
    "PMTprocessor.LPAall_v2(folderpath)"
   ]
  },
  {
   "cell_type": "markdown",
   "id": "7fca35ff",
   "metadata": {},
   "source": [
    "### visualize that model (very time consuming)"
   ]
  },
  {
   "cell_type": "code",
   "execution_count": null,
   "id": "e86fef75",
   "metadata": {},
   "outputs": [],
   "source": [
    "PMTprocessor.graphLPA_v2(folderpath)"
   ]
  },
  {
   "cell_type": "code",
   "execution_count": null,
   "id": "e9367bb3",
   "metadata": {},
   "outputs": [],
   "source": []
  }
 ],
 "metadata": {
  "kernelspec": {
   "display_name": "Python 3 (ipykernel)",
   "language": "python",
   "name": "python3"
  },
  "language_info": {
   "codemirror_mode": {
    "name": "ipython",
    "version": 3
   },
   "file_extension": ".py",
   "mimetype": "text/x-python",
   "name": "python",
   "nbconvert_exporter": "python",
   "pygments_lexer": "ipython3",
   "version": "3.9.12"
  }
 },
 "nbformat": 4,
 "nbformat_minor": 5
}
