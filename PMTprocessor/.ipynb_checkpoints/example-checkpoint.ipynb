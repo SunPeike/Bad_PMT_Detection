{
 "cells": [
  {
   "cell_type": "markdown",
   "id": "8899db69",
   "metadata": {},
   "source": [
    "## Welcome to PMTprocessor! You can try to execute the following blocks "
   ]
  },
  {
   "cell_type": "markdown",
   "id": "57c86931",
   "metadata": {},
   "source": [
    "### import PMTprocessor"
   ]
  },
  {
   "cell_type": "code",
   "execution_count": 2,
   "id": "ada14712",
   "metadata": {},
   "outputs": [],
   "source": [
    "import PMTprocessor"
   ]
  },
  {
   "cell_type": "markdown",
   "id": "1de64492",
   "metadata": {},
   "source": [
    "### set the path of your data folder"
   ]
  },
  {
   "cell_type": "code",
   "execution_count": 3,
   "id": "71b7a171",
   "metadata": {},
   "outputs": [],
   "source": [
    "##This is an example of path, you should replace it with your path\n",
    "folderpath = \"/Users/peikesun/Documents/Year3/project/inputs\"\n",
    "filepath = \"/Users/peikesun/Documents/Year3/project/inputs/values_100002.txt\""
   ]
  },
  {
   "cell_type": "markdown",
   "id": "965a5bd4",
   "metadata": {},
   "source": [
    "### read a single file into a dataframe"
   ]
  },
  {
   "cell_type": "code",
   "execution_count": null,
   "id": "88380990",
   "metadata": {},
   "outputs": [],
   "source": [
    "PMTprocessor.read_file(filepath)"
   ]
  },
  {
   "cell_type": "markdown",
   "id": "37777c1b",
   "metadata": {},
   "source": [
    "### read all files in a folder into a dataframe"
   ]
  },
  {
   "cell_type": "code",
   "execution_count": null,
   "id": "3b542d0b",
   "metadata": {},
   "outputs": [],
   "source": [
    "PMTprocessor.read_files(folderpath)"
   ]
  },
  {
   "cell_type": "markdown",
   "id": "2ccfdf9b",
   "metadata": {},
   "source": [
    "### clean your dataframe "
   ]
  },
  {
   "cell_type": "code",
   "execution_count": null,
   "id": "b00e1f14",
   "metadata": {},
   "outputs": [],
   "source": [
    "PMTprocessor.overall_data_clean(folderpath)"
   ]
  },
  {
   "cell_type": "markdown",
   "id": "4a85e108",
   "metadata": {},
   "source": [
    "### extract the first five rows"
   ]
  },
  {
   "cell_type": "code",
   "execution_count": null,
   "id": "54472e8b",
   "metadata": {},
   "outputs": [],
   "source": [
    "# PMTprocessor.first_five_column(folderpath)\n",
    "PMTprocessor.relocate_5_columns(folderpath)"
   ]
  },
  {
   "cell_type": "markdown",
   "id": "0ba30dcd",
   "metadata": {},
   "source": [
    "### extract the first five rows, and complete the whole range of charge"
   ]
  },
  {
   "cell_type": "code",
   "execution_count": null,
   "id": "3e785676",
   "metadata": {},
   "outputs": [],
   "source": [
    "PMTprocessor.data_completion(folderpath)"
   ]
  },
  {
   "cell_type": "markdown",
   "id": "b58c5250",
   "metadata": {},
   "source": [
    "### pie chart using all rows"
   ]
  },
  {
   "cell_type": "code",
   "execution_count": null,
   "id": "b974f859",
   "metadata": {},
   "outputs": [],
   "source": [
    "PMTprocessor.pie_all_rows(folderpath)"
   ]
  },
  {
   "cell_type": "markdown",
   "id": "cf77493a",
   "metadata": {},
   "source": [
    "### reproduce the SNO+ preliminary graph"
   ]
  },
  {
   "cell_type": "code",
   "execution_count": null,
   "id": "c9d68607",
   "metadata": {},
   "outputs": [],
   "source": [
    "PMTprocessor.SNOPreliminary(folderpath)"
   ]
  },
  {
   "cell_type": "markdown",
   "id": "6f75aa7b",
   "metadata": {},
   "source": [
    "### one-to-one scatter plot"
   ]
  },
  {
   "cell_type": "code",
   "execution_count": null,
   "id": "aa0e2853",
   "metadata": {},
   "outputs": [],
   "source": [
    "PMTprocessor.scatter_5_columns(folderpath)"
   ]
  },
  {
   "cell_type": "markdown",
   "id": "05b1b1f1",
   "metadata": {},
   "source": [
    "### use a small range of data to run the LPA model"
   ]
  },
  {
   "cell_type": "code",
   "execution_count": 4,
   "id": "35b37248",
   "metadata": {},
   "outputs": [
    {
     "data": {
      "text/html": [
       "<div>\n",
       "<style scoped>\n",
       "    .dataframe tbody tr th:only-of-type {\n",
       "        vertical-align: middle;\n",
       "    }\n",
       "\n",
       "    .dataframe tbody tr th {\n",
       "        vertical-align: top;\n",
       "    }\n",
       "\n",
       "    .dataframe thead th {\n",
       "        text-align: right;\n",
       "    }\n",
       "</style>\n",
       "<table border=\"1\" class=\"dataframe\">\n",
       "  <thead>\n",
       "    <tr style=\"text-align: right;\">\n",
       "      <th></th>\n",
       "      <th>qhs_neg</th>\n",
       "      <th>qhs_main</th>\n",
       "      <th>pred_label</th>\n",
       "    </tr>\n",
       "  </thead>\n",
       "  <tbody>\n",
       "    <tr>\n",
       "      <th>68</th>\n",
       "      <td>0.071895</td>\n",
       "      <td>0.860784</td>\n",
       "      <td>1</td>\n",
       "    </tr>\n",
       "    <tr>\n",
       "      <th>114</th>\n",
       "      <td>0.000000</td>\n",
       "      <td>0.999509</td>\n",
       "      <td>0</td>\n",
       "    </tr>\n",
       "    <tr>\n",
       "      <th>142</th>\n",
       "      <td>0.000113</td>\n",
       "      <td>0.999323</td>\n",
       "      <td>0</td>\n",
       "    </tr>\n",
       "    <tr>\n",
       "      <th>144</th>\n",
       "      <td>0.000000</td>\n",
       "      <td>0.999675</td>\n",
       "      <td>0</td>\n",
       "    </tr>\n",
       "    <tr>\n",
       "      <th>149</th>\n",
       "      <td>0.000000</td>\n",
       "      <td>0.999551</td>\n",
       "      <td>0</td>\n",
       "    </tr>\n",
       "    <tr>\n",
       "      <th>...</th>\n",
       "      <td>...</td>\n",
       "      <td>...</td>\n",
       "      <td>...</td>\n",
       "    </tr>\n",
       "    <tr>\n",
       "      <th>5513</th>\n",
       "      <td>0.003569</td>\n",
       "      <td>0.932945</td>\n",
       "      <td>1</td>\n",
       "    </tr>\n",
       "    <tr>\n",
       "      <th>5514</th>\n",
       "      <td>0.000391</td>\n",
       "      <td>0.945794</td>\n",
       "      <td>0</td>\n",
       "    </tr>\n",
       "    <tr>\n",
       "      <th>5515</th>\n",
       "      <td>0.000299</td>\n",
       "      <td>0.990584</td>\n",
       "      <td>0</td>\n",
       "    </tr>\n",
       "    <tr>\n",
       "      <th>5516</th>\n",
       "      <td>0.000000</td>\n",
       "      <td>0.995985</td>\n",
       "      <td>0</td>\n",
       "    </tr>\n",
       "    <tr>\n",
       "      <th>5517</th>\n",
       "      <td>0.000371</td>\n",
       "      <td>0.979622</td>\n",
       "      <td>0</td>\n",
       "    </tr>\n",
       "  </tbody>\n",
       "</table>\n",
       "<p>5000 rows × 3 columns</p>\n",
       "</div>"
      ],
      "text/plain": [
       "       qhs_neg  qhs_main  pred_label\n",
       "68    0.071895  0.860784           1\n",
       "114   0.000000  0.999509           0\n",
       "142   0.000113  0.999323           0\n",
       "144   0.000000  0.999675           0\n",
       "149   0.000000  0.999551           0\n",
       "...        ...       ...         ...\n",
       "5513  0.003569  0.932945           1\n",
       "5514  0.000391  0.945794           0\n",
       "5515  0.000299  0.990584           0\n",
       "5516  0.000000  0.995985           0\n",
       "5517  0.000371  0.979622           0\n",
       "\n",
       "[5000 rows x 3 columns]"
      ]
     },
     "execution_count": 4,
     "metadata": {},
     "output_type": "execute_result"
    }
   ],
   "source": [
    "PMTprocessor.LPAsmall(folderpath)"
   ]
  },
  {
   "cell_type": "markdown",
   "id": "d919c603",
   "metadata": {},
   "source": [
    "### visualize that model"
   ]
  },
  {
   "cell_type": "code",
   "execution_count": 5,
   "id": "a4d8406a",
   "metadata": {},
   "outputs": [],
   "source": [
    "PMTprocessor.graphLPASmall(folderpath)"
   ]
  },
  {
   "cell_type": "code",
   "execution_count": null,
   "id": "83b817c8",
   "metadata": {},
   "outputs": [],
   "source": []
  }
 ],
 "metadata": {
  "kernelspec": {
   "display_name": "Python 3 (ipykernel)",
   "language": "python",
   "name": "python3"
  },
  "language_info": {
   "codemirror_mode": {
    "name": "ipython",
    "version": 3
   },
   "file_extension": ".py",
   "mimetype": "text/x-python",
   "name": "python",
   "nbconvert_exporter": "python",
   "pygments_lexer": "ipython3",
   "version": "3.9.12"
  }
 },
 "nbformat": 4,
 "nbformat_minor": 5
}
