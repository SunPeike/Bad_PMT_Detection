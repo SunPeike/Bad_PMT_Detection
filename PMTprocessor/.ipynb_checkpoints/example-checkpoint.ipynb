{
 "cells": [
  {
   "cell_type": "markdown",
   "id": "8899db69",
   "metadata": {},
   "source": [
    "## Welcome to PMTprocessor! You can try to execute the following blocks "
   ]
  },
  {
   "cell_type": "markdown",
   "id": "57c86931",
   "metadata": {},
   "source": [
    "### import PMTprocessor"
   ]
  },
  {
   "cell_type": "code",
   "execution_count": 10,
   "id": "ada14712",
   "metadata": {},
   "outputs": [],
   "source": [
    "import PMTprocessor"
   ]
  },
  {
   "cell_type": "markdown",
   "id": "1de64492",
   "metadata": {},
   "source": [
    "### set the path of your data folder"
   ]
  },
  {
   "cell_type": "code",
   "execution_count": 11,
   "id": "71b7a171",
   "metadata": {},
   "outputs": [],
   "source": [
    "##This is an example of path, you should replace it with your path\n",
    "folderpath = \"/Users/peikesun/Documents/Year3/project/input\"\n",
    "filepath = \"/Users/peikesun/Documents/Year3/project/inputs/values_100002.txt\""
   ]
  },
  {
   "cell_type": "markdown",
   "id": "965a5bd4",
   "metadata": {},
   "source": [
    "### read a single file into a dataframe"
   ]
  },
  {
   "cell_type": "code",
   "execution_count": 3,
   "id": "88380990",
   "metadata": {},
   "outputs": [
    {
     "data": {
      "text/html": [
       "<div>\n",
       "<style scoped>\n",
       "    .dataframe tbody tr th:only-of-type {\n",
       "        vertical-align: middle;\n",
       "    }\n",
       "\n",
       "    .dataframe tbody tr th {\n",
       "        vertical-align: top;\n",
       "    }\n",
       "\n",
       "    .dataframe thead th {\n",
       "        text-align: right;\n",
       "    }\n",
       "</style>\n",
       "<table border=\"1\" class=\"dataframe\">\n",
       "  <thead>\n",
       "    <tr style=\"text-align: right;\">\n",
       "      <th></th>\n",
       "      <th>qhs_main</th>\n",
       "      <th>qhs_neg</th>\n",
       "      <th>qhs_railed</th>\n",
       "      <th>qhs_second</th>\n",
       "      <th>qhs_third</th>\n",
       "      <th>IDK</th>\n",
       "      <th>high_occ</th>\n",
       "      <th>low_occ</th>\n",
       "    </tr>\n",
       "  </thead>\n",
       "  <tbody>\n",
       "    <tr>\n",
       "      <th>0</th>\n",
       "      <td>-nan</td>\n",
       "      <td>-nan</td>\n",
       "      <td>-nan</td>\n",
       "      <td>-nan</td>\n",
       "      <td>-nan</td>\n",
       "      <td>0</td>\n",
       "      <td>5</td>\n",
       "      <td>5</td>\n",
       "    </tr>\n",
       "    <tr>\n",
       "      <th>1</th>\n",
       "      <td>0.991163475699558</td>\n",
       "      <td>0</td>\n",
       "      <td>0.00147275405007364</td>\n",
       "      <td>0.00662739322533137</td>\n",
       "      <td>0.000736377025036819</td>\n",
       "      <td>0</td>\n",
       "      <td>0.000112749105053979</td>\n",
       "      <td>0.000372144109106734</td>\n",
       "    </tr>\n",
       "    <tr>\n",
       "      <th>2</th>\n",
       "      <td>0.992464204973625</td>\n",
       "      <td>0</td>\n",
       "      <td>0.000753579502637528</td>\n",
       "      <td>0.00678221552373775</td>\n",
       "      <td>0.000753579502637528</td>\n",
       "      <td>0</td>\n",
       "      <td>0.000140936381317473</td>\n",
       "      <td>0.000363648919576315</td>\n",
       "    </tr>\n",
       "    <tr>\n",
       "      <th>3</th>\n",
       "      <td>0.983498349834984</td>\n",
       "      <td>0</td>\n",
       "      <td>0.00132013201320132</td>\n",
       "      <td>0.0158415841584158</td>\n",
       "      <td>0</td>\n",
       "      <td>0</td>\n",
       "      <td>0.000169123657580968</td>\n",
       "      <td>0.000415168133502726</td>\n",
       "    </tr>\n",
       "    <tr>\n",
       "      <th>4</th>\n",
       "      <td>0.963395638629283</td>\n",
       "      <td>0</td>\n",
       "      <td>0.00700934579439252</td>\n",
       "      <td>0.029595015576324</td>\n",
       "      <td>0</td>\n",
       "      <td>0</td>\n",
       "      <td>0.000281872762634947</td>\n",
       "      <td>0.000351865269582508</td>\n",
       "    </tr>\n",
       "    <tr>\n",
       "      <th>...</th>\n",
       "      <td>...</td>\n",
       "      <td>...</td>\n",
       "      <td>...</td>\n",
       "      <td>...</td>\n",
       "      <td>...</td>\n",
       "      <td>...</td>\n",
       "      <td>...</td>\n",
       "      <td>...</td>\n",
       "    </tr>\n",
       "    <tr>\n",
       "      <th>9723</th>\n",
       "      <td>-nan</td>\n",
       "      <td>-nan</td>\n",
       "      <td>-nan</td>\n",
       "      <td>-nan</td>\n",
       "      <td>-nan</td>\n",
       "      <td>0</td>\n",
       "      <td>5</td>\n",
       "      <td>5</td>\n",
       "    </tr>\n",
       "    <tr>\n",
       "      <th>9724</th>\n",
       "      <td>-nan</td>\n",
       "      <td>-nan</td>\n",
       "      <td>-nan</td>\n",
       "      <td>-nan</td>\n",
       "      <td>-nan</td>\n",
       "      <td>0</td>\n",
       "      <td>5</td>\n",
       "      <td>5</td>\n",
       "    </tr>\n",
       "    <tr>\n",
       "      <th>9725</th>\n",
       "      <td>-nan</td>\n",
       "      <td>-nan</td>\n",
       "      <td>-nan</td>\n",
       "      <td>-nan</td>\n",
       "      <td>-nan</td>\n",
       "      <td>0</td>\n",
       "      <td>5</td>\n",
       "      <td>5</td>\n",
       "    </tr>\n",
       "    <tr>\n",
       "      <th>9726</th>\n",
       "      <td>-nan</td>\n",
       "      <td>-nan</td>\n",
       "      <td>-nan</td>\n",
       "      <td>-nan</td>\n",
       "      <td>-nan</td>\n",
       "      <td>0</td>\n",
       "      <td>5</td>\n",
       "      <td>5</td>\n",
       "    </tr>\n",
       "    <tr>\n",
       "      <th>9727</th>\n",
       "      <td>-nan\\n</td>\n",
       "      <td>-nan\\n</td>\n",
       "      <td>-nan\\n</td>\n",
       "      <td>-nan\\n</td>\n",
       "      <td>-nan\\n</td>\n",
       "      <td>0\\n</td>\n",
       "      <td>5\\n</td>\n",
       "      <td>5\\n</td>\n",
       "    </tr>\n",
       "  </tbody>\n",
       "</table>\n",
       "<p>9728 rows × 8 columns</p>\n",
       "</div>"
      ],
      "text/plain": [
       "                qhs_main  qhs_neg             qhs_railed  \\\n",
       "0                   -nan     -nan                   -nan   \n",
       "1      0.991163475699558        0    0.00147275405007364   \n",
       "2      0.992464204973625        0   0.000753579502637528   \n",
       "3      0.983498349834984        0    0.00132013201320132   \n",
       "4      0.963395638629283        0    0.00700934579439252   \n",
       "...                  ...      ...                    ...   \n",
       "9723                -nan     -nan                   -nan   \n",
       "9724                -nan     -nan                   -nan   \n",
       "9725                -nan     -nan                   -nan   \n",
       "9726                -nan     -nan                   -nan   \n",
       "9727              -nan\\n   -nan\\n                 -nan\\n   \n",
       "\n",
       "                qhs_second              qhs_third   IDK  \\\n",
       "0                     -nan                   -nan     0   \n",
       "1      0.00662739322533137   0.000736377025036819     0   \n",
       "2      0.00678221552373775   0.000753579502637528     0   \n",
       "3       0.0158415841584158                      0     0   \n",
       "4        0.029595015576324                      0     0   \n",
       "...                    ...                    ...   ...   \n",
       "9723                  -nan                   -nan     0   \n",
       "9724                  -nan                   -nan     0   \n",
       "9725                  -nan                   -nan     0   \n",
       "9726                  -nan                   -nan     0   \n",
       "9727                -nan\\n                 -nan\\n   0\\n   \n",
       "\n",
       "                   high_occ                low_occ  \n",
       "0                         5                      5  \n",
       "1      0.000112749105053979   0.000372144109106734  \n",
       "2      0.000140936381317473   0.000363648919576315  \n",
       "3      0.000169123657580968   0.000415168133502726  \n",
       "4      0.000281872762634947   0.000351865269582508  \n",
       "...                     ...                    ...  \n",
       "9723                      5                      5  \n",
       "9724                      5                      5  \n",
       "9725                      5                      5  \n",
       "9726                      5                      5  \n",
       "9727                    5\\n                    5\\n  \n",
       "\n",
       "[9728 rows x 8 columns]"
      ]
     },
     "execution_count": 3,
     "metadata": {},
     "output_type": "execute_result"
    }
   ],
   "source": [
    "PMTprocessor.read_file(filepath)\n"
   ]
  },
  {
   "cell_type": "markdown",
   "id": "37777c1b",
   "metadata": {},
   "source": [
    "### read all files in a folder into a dataframe"
   ]
  },
  {
   "cell_type": "code",
   "execution_count": 4,
   "id": "3b542d0b",
   "metadata": {},
   "outputs": [
    {
     "data": {
      "text/html": [
       "<div>\n",
       "<style scoped>\n",
       "    .dataframe tbody tr th:only-of-type {\n",
       "        vertical-align: middle;\n",
       "    }\n",
       "\n",
       "    .dataframe tbody tr th {\n",
       "        vertical-align: top;\n",
       "    }\n",
       "\n",
       "    .dataframe thead th {\n",
       "        text-align: right;\n",
       "    }\n",
       "</style>\n",
       "<table border=\"1\" class=\"dataframe\">\n",
       "  <thead>\n",
       "    <tr style=\"text-align: right;\">\n",
       "      <th></th>\n",
       "      <th>qhs_main</th>\n",
       "      <th>qhs_neg</th>\n",
       "      <th>qhs_railed</th>\n",
       "      <th>qhs_second</th>\n",
       "      <th>qhs_third</th>\n",
       "      <th>IDK</th>\n",
       "      <th>high_occ</th>\n",
       "      <th>low_occ</th>\n",
       "    </tr>\n",
       "  </thead>\n",
       "  <tbody>\n",
       "    <tr>\n",
       "      <th>0</th>\n",
       "      <td>-nan</td>\n",
       "      <td>-nan</td>\n",
       "      <td>-nan</td>\n",
       "      <td>-nan</td>\n",
       "      <td>-nan</td>\n",
       "      <td>0</td>\n",
       "      <td>5</td>\n",
       "      <td>5</td>\n",
       "    </tr>\n",
       "    <tr>\n",
       "      <th>1</th>\n",
       "      <td>0.991163475699558</td>\n",
       "      <td>0</td>\n",
       "      <td>0.00147275405007364</td>\n",
       "      <td>0.00662739322533137</td>\n",
       "      <td>0.000736377025036819</td>\n",
       "      <td>0</td>\n",
       "      <td>0.000112749105053979</td>\n",
       "      <td>0.000372144109106734</td>\n",
       "    </tr>\n",
       "    <tr>\n",
       "      <th>2</th>\n",
       "      <td>0.992464204973625</td>\n",
       "      <td>0</td>\n",
       "      <td>0.000753579502637528</td>\n",
       "      <td>0.00678221552373775</td>\n",
       "      <td>0.000753579502637528</td>\n",
       "      <td>0</td>\n",
       "      <td>0.000140936381317473</td>\n",
       "      <td>0.000363648919576315</td>\n",
       "    </tr>\n",
       "    <tr>\n",
       "      <th>3</th>\n",
       "      <td>0.983498349834984</td>\n",
       "      <td>0</td>\n",
       "      <td>0.00132013201320132</td>\n",
       "      <td>0.0158415841584158</td>\n",
       "      <td>0</td>\n",
       "      <td>0</td>\n",
       "      <td>0.000169123657580968</td>\n",
       "      <td>0.000415168133502726</td>\n",
       "    </tr>\n",
       "    <tr>\n",
       "      <th>4</th>\n",
       "      <td>0.963395638629283</td>\n",
       "      <td>0</td>\n",
       "      <td>0.00700934579439252</td>\n",
       "      <td>0.029595015576324</td>\n",
       "      <td>0</td>\n",
       "      <td>0</td>\n",
       "      <td>0.000281872762634947</td>\n",
       "      <td>0.000351865269582508</td>\n",
       "    </tr>\n",
       "    <tr>\n",
       "      <th>...</th>\n",
       "      <td>...</td>\n",
       "      <td>...</td>\n",
       "      <td>...</td>\n",
       "      <td>...</td>\n",
       "      <td>...</td>\n",
       "      <td>...</td>\n",
       "      <td>...</td>\n",
       "      <td>...</td>\n",
       "    </tr>\n",
       "    <tr>\n",
       "      <th>9723</th>\n",
       "      <td>-nan</td>\n",
       "      <td>-nan</td>\n",
       "      <td>-nan</td>\n",
       "      <td>-nan</td>\n",
       "      <td>-nan</td>\n",
       "      <td>0</td>\n",
       "      <td>5</td>\n",
       "      <td>5</td>\n",
       "    </tr>\n",
       "    <tr>\n",
       "      <th>9724</th>\n",
       "      <td>-nan</td>\n",
       "      <td>-nan</td>\n",
       "      <td>-nan</td>\n",
       "      <td>-nan</td>\n",
       "      <td>-nan</td>\n",
       "      <td>0</td>\n",
       "      <td>5</td>\n",
       "      <td>5</td>\n",
       "    </tr>\n",
       "    <tr>\n",
       "      <th>9725</th>\n",
       "      <td>-nan</td>\n",
       "      <td>-nan</td>\n",
       "      <td>-nan</td>\n",
       "      <td>-nan</td>\n",
       "      <td>-nan</td>\n",
       "      <td>0</td>\n",
       "      <td>5</td>\n",
       "      <td>5</td>\n",
       "    </tr>\n",
       "    <tr>\n",
       "      <th>9726</th>\n",
       "      <td>-nan</td>\n",
       "      <td>-nan</td>\n",
       "      <td>-nan</td>\n",
       "      <td>-nan</td>\n",
       "      <td>-nan</td>\n",
       "      <td>0</td>\n",
       "      <td>5</td>\n",
       "      <td>5</td>\n",
       "    </tr>\n",
       "    <tr>\n",
       "      <th>9727</th>\n",
       "      <td>-nan\\n</td>\n",
       "      <td>-nan\\n</td>\n",
       "      <td>-nan\\n</td>\n",
       "      <td>-nan\\n</td>\n",
       "      <td>-nan\\n</td>\n",
       "      <td>0\\n</td>\n",
       "      <td>5\\n</td>\n",
       "      <td>5\\n</td>\n",
       "    </tr>\n",
       "  </tbody>\n",
       "</table>\n",
       "<p>9728 rows × 8 columns</p>\n",
       "</div>"
      ],
      "text/plain": [
       "                qhs_main  qhs_neg             qhs_railed  \\\n",
       "0                   -nan     -nan                   -nan   \n",
       "1      0.991163475699558        0    0.00147275405007364   \n",
       "2      0.992464204973625        0   0.000753579502637528   \n",
       "3      0.983498349834984        0    0.00132013201320132   \n",
       "4      0.963395638629283        0    0.00700934579439252   \n",
       "...                  ...      ...                    ...   \n",
       "9723                -nan     -nan                   -nan   \n",
       "9724                -nan     -nan                   -nan   \n",
       "9725                -nan     -nan                   -nan   \n",
       "9726                -nan     -nan                   -nan   \n",
       "9727              -nan\\n   -nan\\n                 -nan\\n   \n",
       "\n",
       "                qhs_second              qhs_third   IDK  \\\n",
       "0                     -nan                   -nan     0   \n",
       "1      0.00662739322533137   0.000736377025036819     0   \n",
       "2      0.00678221552373775   0.000753579502637528     0   \n",
       "3       0.0158415841584158                      0     0   \n",
       "4        0.029595015576324                      0     0   \n",
       "...                    ...                    ...   ...   \n",
       "9723                  -nan                   -nan     0   \n",
       "9724                  -nan                   -nan     0   \n",
       "9725                  -nan                   -nan     0   \n",
       "9726                  -nan                   -nan     0   \n",
       "9727                -nan\\n                 -nan\\n   0\\n   \n",
       "\n",
       "                   high_occ                low_occ  \n",
       "0                         5                      5  \n",
       "1      0.000112749105053979   0.000372144109106734  \n",
       "2      0.000140936381317473   0.000363648919576315  \n",
       "3      0.000169123657580968   0.000415168133502726  \n",
       "4      0.000281872762634947   0.000351865269582508  \n",
       "...                     ...                    ...  \n",
       "9723                      5                      5  \n",
       "9724                      5                      5  \n",
       "9725                      5                      5  \n",
       "9726                      5                      5  \n",
       "9727                    5\\n                    5\\n  \n",
       "\n",
       "[9728 rows x 8 columns]"
      ]
     },
     "execution_count": 4,
     "metadata": {},
     "output_type": "execute_result"
    }
   ],
   "source": [
    "PMTprocessor.read_files(folderpath)"
   ]
  },
  {
   "cell_type": "markdown",
   "id": "2ccfdf9b",
   "metadata": {},
   "source": [
    "### clean your dataframe "
   ]
  },
  {
   "cell_type": "code",
   "execution_count": 5,
   "id": "b00e1f14",
   "metadata": {},
   "outputs": [
    {
     "data": {
      "text/html": [
       "<div>\n",
       "<style scoped>\n",
       "    .dataframe tbody tr th:only-of-type {\n",
       "        vertical-align: middle;\n",
       "    }\n",
       "\n",
       "    .dataframe tbody tr th {\n",
       "        vertical-align: top;\n",
       "    }\n",
       "\n",
       "    .dataframe thead th {\n",
       "        text-align: right;\n",
       "    }\n",
       "</style>\n",
       "<table border=\"1\" class=\"dataframe\">\n",
       "  <thead>\n",
       "    <tr style=\"text-align: right;\">\n",
       "      <th></th>\n",
       "      <th>qhs_main</th>\n",
       "      <th>qhs_neg</th>\n",
       "      <th>qhs_railed</th>\n",
       "      <th>qhs_second</th>\n",
       "      <th>qhs_third</th>\n",
       "      <th>IDK</th>\n",
       "      <th>high_occ</th>\n",
       "      <th>low_occ</th>\n",
       "    </tr>\n",
       "  </thead>\n",
       "  <tbody>\n",
       "    <tr>\n",
       "      <th>1</th>\n",
       "      <td>0.991163</td>\n",
       "      <td>0.000000</td>\n",
       "      <td>0.001473</td>\n",
       "      <td>0.006627</td>\n",
       "      <td>0.000736</td>\n",
       "      <td>0.0</td>\n",
       "      <td>0.000113</td>\n",
       "      <td>0.000372</td>\n",
       "    </tr>\n",
       "    <tr>\n",
       "      <th>2</th>\n",
       "      <td>0.992464</td>\n",
       "      <td>0.000000</td>\n",
       "      <td>0.000754</td>\n",
       "      <td>0.006782</td>\n",
       "      <td>0.000754</td>\n",
       "      <td>0.0</td>\n",
       "      <td>0.000141</td>\n",
       "      <td>0.000364</td>\n",
       "    </tr>\n",
       "    <tr>\n",
       "      <th>3</th>\n",
       "      <td>0.983498</td>\n",
       "      <td>0.000000</td>\n",
       "      <td>0.001320</td>\n",
       "      <td>0.015842</td>\n",
       "      <td>0.000000</td>\n",
       "      <td>0.0</td>\n",
       "      <td>0.000169</td>\n",
       "      <td>0.000415</td>\n",
       "    </tr>\n",
       "    <tr>\n",
       "      <th>4</th>\n",
       "      <td>0.963396</td>\n",
       "      <td>0.000000</td>\n",
       "      <td>0.007009</td>\n",
       "      <td>0.029595</td>\n",
       "      <td>0.000000</td>\n",
       "      <td>0.0</td>\n",
       "      <td>0.000282</td>\n",
       "      <td>0.000352</td>\n",
       "    </tr>\n",
       "    <tr>\n",
       "      <th>5</th>\n",
       "      <td>0.998850</td>\n",
       "      <td>0.000230</td>\n",
       "      <td>0.000000</td>\n",
       "      <td>0.000460</td>\n",
       "      <td>0.000460</td>\n",
       "      <td>0.0</td>\n",
       "      <td>0.000338</td>\n",
       "      <td>0.001191</td>\n",
       "    </tr>\n",
       "    <tr>\n",
       "      <th>...</th>\n",
       "      <td>...</td>\n",
       "      <td>...</td>\n",
       "      <td>...</td>\n",
       "      <td>...</td>\n",
       "      <td>...</td>\n",
       "      <td>...</td>\n",
       "      <td>...</td>\n",
       "      <td>...</td>\n",
       "    </tr>\n",
       "    <tr>\n",
       "      <th>9689</th>\n",
       "      <td>0.980488</td>\n",
       "      <td>0.000000</td>\n",
       "      <td>0.011707</td>\n",
       "      <td>0.007805</td>\n",
       "      <td>0.000000</td>\n",
       "      <td>0.0</td>\n",
       "      <td>0.000169</td>\n",
       "      <td>0.000281</td>\n",
       "    </tr>\n",
       "    <tr>\n",
       "      <th>9692</th>\n",
       "      <td>0.989437</td>\n",
       "      <td>0.000000</td>\n",
       "      <td>0.002347</td>\n",
       "      <td>0.007042</td>\n",
       "      <td>0.001174</td>\n",
       "      <td>0.0</td>\n",
       "      <td>0.000085</td>\n",
       "      <td>0.000233</td>\n",
       "    </tr>\n",
       "    <tr>\n",
       "      <th>9693</th>\n",
       "      <td>0.995646</td>\n",
       "      <td>0.000000</td>\n",
       "      <td>0.001451</td>\n",
       "      <td>0.002903</td>\n",
       "      <td>0.000000</td>\n",
       "      <td>0.0</td>\n",
       "      <td>0.000085</td>\n",
       "      <td>0.000189</td>\n",
       "    </tr>\n",
       "    <tr>\n",
       "      <th>9694</th>\n",
       "      <td>0.989011</td>\n",
       "      <td>0.000916</td>\n",
       "      <td>0.002747</td>\n",
       "      <td>0.006410</td>\n",
       "      <td>0.000916</td>\n",
       "      <td>0.0</td>\n",
       "      <td>0.000225</td>\n",
       "      <td>0.000299</td>\n",
       "    </tr>\n",
       "    <tr>\n",
       "      <th>9695</th>\n",
       "      <td>0.980892</td>\n",
       "      <td>0.000000</td>\n",
       "      <td>0.002548</td>\n",
       "      <td>0.016561</td>\n",
       "      <td>0.000000</td>\n",
       "      <td>0.0</td>\n",
       "      <td>0.000254</td>\n",
       "      <td>0.000215</td>\n",
       "    </tr>\n",
       "  </tbody>\n",
       "</table>\n",
       "<p>8638 rows × 8 columns</p>\n",
       "</div>"
      ],
      "text/plain": [
       "      qhs_main   qhs_neg  qhs_railed  qhs_second  qhs_third  IDK  high_occ  \\\n",
       "1     0.991163  0.000000    0.001473    0.006627   0.000736  0.0  0.000113   \n",
       "2     0.992464  0.000000    0.000754    0.006782   0.000754  0.0  0.000141   \n",
       "3     0.983498  0.000000    0.001320    0.015842   0.000000  0.0  0.000169   \n",
       "4     0.963396  0.000000    0.007009    0.029595   0.000000  0.0  0.000282   \n",
       "5     0.998850  0.000230    0.000000    0.000460   0.000460  0.0  0.000338   \n",
       "...        ...       ...         ...         ...        ...  ...       ...   \n",
       "9689  0.980488  0.000000    0.011707    0.007805   0.000000  0.0  0.000169   \n",
       "9692  0.989437  0.000000    0.002347    0.007042   0.001174  0.0  0.000085   \n",
       "9693  0.995646  0.000000    0.001451    0.002903   0.000000  0.0  0.000085   \n",
       "9694  0.989011  0.000916    0.002747    0.006410   0.000916  0.0  0.000225   \n",
       "9695  0.980892  0.000000    0.002548    0.016561   0.000000  0.0  0.000254   \n",
       "\n",
       "       low_occ  \n",
       "1     0.000372  \n",
       "2     0.000364  \n",
       "3     0.000415  \n",
       "4     0.000352  \n",
       "5     0.001191  \n",
       "...        ...  \n",
       "9689  0.000281  \n",
       "9692  0.000233  \n",
       "9693  0.000189  \n",
       "9694  0.000299  \n",
       "9695  0.000215  \n",
       "\n",
       "[8638 rows x 8 columns]"
      ]
     },
     "execution_count": 5,
     "metadata": {},
     "output_type": "execute_result"
    }
   ],
   "source": [
    "PMTprocessor.overall_data_clean(folderpath)"
   ]
  },
  {
   "cell_type": "markdown",
   "id": "4a85e108",
   "metadata": {},
   "source": [
    "### extract the first five rows"
   ]
  },
  {
   "cell_type": "code",
   "execution_count": null,
   "id": "54472e8b",
   "metadata": {},
   "outputs": [],
   "source": [
    "# PMTprocessor.first_five_column(folderpath)\n",
    "PMTprocessor.relocate_5_columns(folderpath)"
   ]
  },
  {
   "cell_type": "markdown",
   "id": "0ba30dcd",
   "metadata": {},
   "source": [
    "### extract the first five rows, and complete the whole range of charge"
   ]
  },
  {
   "cell_type": "code",
   "execution_count": null,
   "id": "3e785676",
   "metadata": {},
   "outputs": [],
   "source": [
    "PMTprocessor.data_completion(folderpath)"
   ]
  },
  {
   "cell_type": "markdown",
   "id": "b58c5250",
   "metadata": {},
   "source": [
    "### pie chart using all rows"
   ]
  },
  {
   "cell_type": "code",
   "execution_count": null,
   "id": "b974f859",
   "metadata": {},
   "outputs": [],
   "source": [
    "PMTprocessor.pie_all_rows(folderpath)"
   ]
  },
  {
   "cell_type": "markdown",
   "id": "cf77493a",
   "metadata": {},
   "source": [
    "### reproduce the SNO+ preliminary graph"
   ]
  },
  {
   "cell_type": "code",
   "execution_count": null,
   "id": "c9d68607",
   "metadata": {},
   "outputs": [],
   "source": [
    "PMTprocessor.SNOPreliminary(folderpath)"
   ]
  },
  {
   "cell_type": "markdown",
   "id": "6f75aa7b",
   "metadata": {},
   "source": [
    "### one-to-one scatter plot"
   ]
  },
  {
   "cell_type": "code",
   "execution_count": null,
   "id": "aa0e2853",
   "metadata": {},
   "outputs": [],
   "source": [
    "PMTprocessor.scatter_5_columns(folderpath)"
   ]
  },
  {
   "cell_type": "markdown",
   "id": "26c57ced",
   "metadata": {},
   "source": [
    "# lpa model, using two columns each time"
   ]
  },
  {
   "cell_type": "markdown",
   "id": "05b1b1f1",
   "metadata": {},
   "source": [
    "### LPA model, only on qhs_neg and qhs_main"
   ]
  },
  {
   "cell_type": "code",
   "execution_count": null,
   "id": "35b37248",
   "metadata": {},
   "outputs": [],
   "source": [
    "PMTprocessor.LPA_neg_main(folderpath)"
   ]
  },
  {
   "cell_type": "markdown",
   "id": "c8dc73ef",
   "metadata": {},
   "source": [
    "### LPA model, only on qhs_second and qhs_main"
   ]
  },
  {
   "cell_type": "code",
   "execution_count": null,
   "id": "8d9724c4",
   "metadata": {},
   "outputs": [],
   "source": [
    "PMTprocessor.LPAsecond(folderpath)"
   ]
  },
  {
   "cell_type": "markdown",
   "id": "d919c603",
   "metadata": {},
   "source": [
    "### visualize model on qhs_neg and qhs_main (may take some time)"
   ]
  },
  {
   "cell_type": "code",
   "execution_count": null,
   "id": "a4d8406a",
   "metadata": {},
   "outputs": [],
   "source": [
    "PMTprocessor.graphLPA_neg_main(folderpath)"
   ]
  },
  {
   "cell_type": "markdown",
   "id": "77fca147",
   "metadata": {},
   "source": [
    "### visualize model on qhs_second and qhs_main (may take some time)"
   ]
  },
  {
   "cell_type": "code",
   "execution_count": null,
   "id": "04aeb429",
   "metadata": {},
   "outputs": [],
   "source": [
    "PMTprocessor.second_graphLPA(folderpath)"
   ]
  },
  {
   "cell_type": "markdown",
   "id": "6e7a4873",
   "metadata": {},
   "source": [
    "## integrating the four models together"
   ]
  },
  {
   "cell_type": "markdown",
   "id": "5e22cdde",
   "metadata": {},
   "source": [
    "### output the predicted bad channels"
   ]
  },
  {
   "cell_type": "code",
   "execution_count": 12,
   "id": "35718dcd",
   "metadata": {},
   "outputs": [
    {
     "ename": "NameError",
     "evalue": "name 'df_concat' is not defined",
     "output_type": "error",
     "traceback": [
      "\u001b[0;31m---------------------------------------------------------------------------\u001b[0m",
      "\u001b[0;31mNameError\u001b[0m                                 Traceback (most recent call last)",
      "Input \u001b[0;32mIn [12]\u001b[0m, in \u001b[0;36m<cell line: 1>\u001b[0;34m()\u001b[0m\n\u001b[0;32m----> 1\u001b[0m out1 \u001b[38;5;241m=\u001b[39m \u001b[43mPMTprocessor\u001b[49m\u001b[38;5;241;43m.\u001b[39;49m\u001b[43mbad_channels\u001b[49m\u001b[43m(\u001b[49m\u001b[43mfolderpath\u001b[49m\u001b[43m)\u001b[49m\n\u001b[1;32m      2\u001b[0m out1\n",
      "File \u001b[0;32m~/Documents/Year3/project/Bad_PMT_Detection/PMTprocessor/PMTprocessor.py:554\u001b[0m, in \u001b[0;36mbad_channels\u001b[0;34m(filepath)\u001b[0m\n\u001b[1;32m    552\u001b[0m ones_df \u001b[38;5;241m=\u001b[39m df[df[\u001b[38;5;124m'\u001b[39m\u001b[38;5;124mpred_label\u001b[39m\u001b[38;5;124m'\u001b[39m] \u001b[38;5;241m==\u001b[39m \u001b[38;5;241m1\u001b[39m]\n\u001b[1;32m    553\u001b[0m ones_index \u001b[38;5;241m=\u001b[39m ones_df\u001b[38;5;241m.\u001b[39mindex\u001b[38;5;241m.\u001b[39mtolist()\n\u001b[0;32m--> 554\u001b[0m num_good \u001b[38;5;241m=\u001b[39m \u001b[43mdf_concat\u001b[49m[\u001b[38;5;124m'\u001b[39m\u001b[38;5;124mtype\u001b[39m\u001b[38;5;124m'\u001b[39m]\u001b[38;5;241m.\u001b[39mvalue_counts()[\u001b[38;5;124m'\u001b[39m\u001b[38;5;124mgood\u001b[39m\u001b[38;5;124m'\u001b[39m]\n\u001b[1;32m    555\u001b[0m \u001b[38;5;28;01mreturn\u001b[39;00m(ones_index)\n",
      "\u001b[0;31mNameError\u001b[0m: name 'df_concat' is not defined"
     ]
    }
   ],
   "source": [
    "out1 = PMTprocessor.bad_channels(folderpath)\n",
    "out1"
   ]
  },
  {
   "cell_type": "markdown",
   "id": "b92bca98",
   "metadata": {},
   "source": [
    "### count the bad channels"
   ]
  },
  {
   "cell_type": "code",
   "execution_count": null,
   "id": "01b106a7",
   "metadata": {},
   "outputs": [],
   "source": [
    "PMTprocessor.bad_channels_count(filepath)"
   ]
  },
  {
   "cell_type": "markdown",
   "id": "73e3139b",
   "metadata": {},
   "source": [
    "### plot of 5 * 5 subplots, visualize the bad channels"
   ]
  },
  {
   "cell_type": "code",
   "execution_count": null,
   "id": "e1b3393d",
   "metadata": {},
   "outputs": [],
   "source": [
    "PMTprocessor.plot_LPA_all(filepath)"
   ]
  },
  {
   "cell_type": "markdown",
   "id": "86eb2180",
   "metadata": {},
   "source": [
    "### LPA model, using all columns"
   ]
  },
  {
   "cell_type": "code",
   "execution_count": null,
   "id": "4c5c646b",
   "metadata": {},
   "outputs": [],
   "source": [
    "PMTprocessor.LPAall_v2(folderpath)"
   ]
  },
  {
   "cell_type": "markdown",
   "id": "7fca35ff",
   "metadata": {},
   "source": [
    "### visualize that model (very time consuming)"
   ]
  },
  {
   "cell_type": "code",
   "execution_count": null,
   "id": "e86fef75",
   "metadata": {},
   "outputs": [],
   "source": [
    "PMTprocessor.graphLPA_v2(folderpath)"
   ]
  },
  {
   "cell_type": "code",
   "execution_count": null,
   "id": "e9367bb3",
   "metadata": {},
   "outputs": [],
   "source": []
  }
 ],
 "metadata": {
  "kernelspec": {
   "display_name": "Python 3 (ipykernel)",
   "language": "python",
   "name": "python3"
  },
  "language_info": {
   "codemirror_mode": {
    "name": "ipython",
    "version": 3
   },
   "file_extension": ".py",
   "mimetype": "text/x-python",
   "name": "python",
   "nbconvert_exporter": "python",
   "pygments_lexer": "ipython3",
   "version": "3.9.12"
  }
 },
 "nbformat": 4,
 "nbformat_minor": 5
}
