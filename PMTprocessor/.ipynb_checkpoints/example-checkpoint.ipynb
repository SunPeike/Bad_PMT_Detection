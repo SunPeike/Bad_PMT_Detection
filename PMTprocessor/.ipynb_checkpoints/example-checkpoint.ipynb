{
 "cells": [
  {
   "cell_type": "markdown",
   "id": "8899db69",
   "metadata": {},
   "source": [
    "## Welcome to PMTprocessor! You can try to execute the following blocks "
   ]
  },
  {
   "cell_type": "markdown",
   "id": "57c86931",
   "metadata": {},
   "source": [
    "### import PMTprocessor"
   ]
  },
  {
   "cell_type": "code",
   "execution_count": 6,
   "id": "ada14712",
   "metadata": {},
   "outputs": [],
   "source": [
    "import PMTprocessor"
   ]
  },
  {
   "cell_type": "markdown",
   "id": "1de64492",
   "metadata": {},
   "source": [
    "### set the path of your data folder"
   ]
  },
  {
   "cell_type": "code",
   "execution_count": 2,
   "id": "71b7a171",
   "metadata": {},
   "outputs": [],
   "source": [
    "##This is an example of path, you should replace it with your path\n",
    "folderpath = \"/Users/peikesun/Documents/Year3/project/input\"\n",
    "filepath = \"/Users/peikesun/Documents/Year3/project/inputs/values_100002.txt\""
   ]
  },
  {
   "cell_type": "markdown",
   "id": "965a5bd4",
   "metadata": {},
   "source": [
    "### read a single file into a dataframe"
   ]
  },
  {
   "cell_type": "code",
   "execution_count": 3,
   "id": "88380990",
   "metadata": {},
   "outputs": [
    {
     "data": {
      "text/html": [
       "<div>\n",
       "<style scoped>\n",
       "    .dataframe tbody tr th:only-of-type {\n",
       "        vertical-align: middle;\n",
       "    }\n",
       "\n",
       "    .dataframe tbody tr th {\n",
       "        vertical-align: top;\n",
       "    }\n",
       "\n",
       "    .dataframe thead th {\n",
       "        text-align: right;\n",
       "    }\n",
       "</style>\n",
       "<table border=\"1\" class=\"dataframe\">\n",
       "  <thead>\n",
       "    <tr style=\"text-align: right;\">\n",
       "      <th></th>\n",
       "      <th>qhs_main</th>\n",
       "      <th>qhs_neg</th>\n",
       "      <th>qhs_railed</th>\n",
       "      <th>qhs_second</th>\n",
       "      <th>qhs_third</th>\n",
       "      <th>IDK</th>\n",
       "      <th>high_occ</th>\n",
       "      <th>low_occ</th>\n",
       "    </tr>\n",
       "  </thead>\n",
       "  <tbody>\n",
       "    <tr>\n",
       "      <th>0</th>\n",
       "      <td>-nan</td>\n",
       "      <td>-nan</td>\n",
       "      <td>-nan</td>\n",
       "      <td>-nan</td>\n",
       "      <td>-nan</td>\n",
       "      <td>0</td>\n",
       "      <td>5</td>\n",
       "      <td>5</td>\n",
       "    </tr>\n",
       "    <tr>\n",
       "      <th>1</th>\n",
       "      <td>0.991163475699558</td>\n",
       "      <td>0</td>\n",
       "      <td>0.00147275405007364</td>\n",
       "      <td>0.00662739322533137</td>\n",
       "      <td>0.000736377025036819</td>\n",
       "      <td>0</td>\n",
       "      <td>0.000112749105053979</td>\n",
       "      <td>0.000372144109106734</td>\n",
       "    </tr>\n",
       "    <tr>\n",
       "      <th>2</th>\n",
       "      <td>0.992464204973625</td>\n",
       "      <td>0</td>\n",
       "      <td>0.000753579502637528</td>\n",
       "      <td>0.00678221552373775</td>\n",
       "      <td>0.000753579502637528</td>\n",
       "      <td>0</td>\n",
       "      <td>0.000140936381317473</td>\n",
       "      <td>0.000363648919576315</td>\n",
       "    </tr>\n",
       "    <tr>\n",
       "      <th>3</th>\n",
       "      <td>0.983498349834984</td>\n",
       "      <td>0</td>\n",
       "      <td>0.00132013201320132</td>\n",
       "      <td>0.0158415841584158</td>\n",
       "      <td>0</td>\n",
       "      <td>0</td>\n",
       "      <td>0.000169123657580968</td>\n",
       "      <td>0.000415168133502726</td>\n",
       "    </tr>\n",
       "    <tr>\n",
       "      <th>4</th>\n",
       "      <td>0.963395638629283</td>\n",
       "      <td>0</td>\n",
       "      <td>0.00700934579439252</td>\n",
       "      <td>0.029595015576324</td>\n",
       "      <td>0</td>\n",
       "      <td>0</td>\n",
       "      <td>0.000281872762634947</td>\n",
       "      <td>0.000351865269582508</td>\n",
       "    </tr>\n",
       "    <tr>\n",
       "      <th>...</th>\n",
       "      <td>...</td>\n",
       "      <td>...</td>\n",
       "      <td>...</td>\n",
       "      <td>...</td>\n",
       "      <td>...</td>\n",
       "      <td>...</td>\n",
       "      <td>...</td>\n",
       "      <td>...</td>\n",
       "    </tr>\n",
       "    <tr>\n",
       "      <th>9723</th>\n",
       "      <td>-nan</td>\n",
       "      <td>-nan</td>\n",
       "      <td>-nan</td>\n",
       "      <td>-nan</td>\n",
       "      <td>-nan</td>\n",
       "      <td>0</td>\n",
       "      <td>5</td>\n",
       "      <td>5</td>\n",
       "    </tr>\n",
       "    <tr>\n",
       "      <th>9724</th>\n",
       "      <td>-nan</td>\n",
       "      <td>-nan</td>\n",
       "      <td>-nan</td>\n",
       "      <td>-nan</td>\n",
       "      <td>-nan</td>\n",
       "      <td>0</td>\n",
       "      <td>5</td>\n",
       "      <td>5</td>\n",
       "    </tr>\n",
       "    <tr>\n",
       "      <th>9725</th>\n",
       "      <td>-nan</td>\n",
       "      <td>-nan</td>\n",
       "      <td>-nan</td>\n",
       "      <td>-nan</td>\n",
       "      <td>-nan</td>\n",
       "      <td>0</td>\n",
       "      <td>5</td>\n",
       "      <td>5</td>\n",
       "    </tr>\n",
       "    <tr>\n",
       "      <th>9726</th>\n",
       "      <td>-nan</td>\n",
       "      <td>-nan</td>\n",
       "      <td>-nan</td>\n",
       "      <td>-nan</td>\n",
       "      <td>-nan</td>\n",
       "      <td>0</td>\n",
       "      <td>5</td>\n",
       "      <td>5</td>\n",
       "    </tr>\n",
       "    <tr>\n",
       "      <th>9727</th>\n",
       "      <td>-nan\\n</td>\n",
       "      <td>-nan\\n</td>\n",
       "      <td>-nan\\n</td>\n",
       "      <td>-nan\\n</td>\n",
       "      <td>-nan\\n</td>\n",
       "      <td>0\\n</td>\n",
       "      <td>5\\n</td>\n",
       "      <td>5\\n</td>\n",
       "    </tr>\n",
       "  </tbody>\n",
       "</table>\n",
       "<p>9728 rows × 8 columns</p>\n",
       "</div>"
      ],
      "text/plain": [
       "                qhs_main  qhs_neg             qhs_railed  \\\n",
       "0                   -nan     -nan                   -nan   \n",
       "1      0.991163475699558        0    0.00147275405007364   \n",
       "2      0.992464204973625        0   0.000753579502637528   \n",
       "3      0.983498349834984        0    0.00132013201320132   \n",
       "4      0.963395638629283        0    0.00700934579439252   \n",
       "...                  ...      ...                    ...   \n",
       "9723                -nan     -nan                   -nan   \n",
       "9724                -nan     -nan                   -nan   \n",
       "9725                -nan     -nan                   -nan   \n",
       "9726                -nan     -nan                   -nan   \n",
       "9727              -nan\\n   -nan\\n                 -nan\\n   \n",
       "\n",
       "                qhs_second              qhs_third   IDK  \\\n",
       "0                     -nan                   -nan     0   \n",
       "1      0.00662739322533137   0.000736377025036819     0   \n",
       "2      0.00678221552373775   0.000753579502637528     0   \n",
       "3       0.0158415841584158                      0     0   \n",
       "4        0.029595015576324                      0     0   \n",
       "...                    ...                    ...   ...   \n",
       "9723                  -nan                   -nan     0   \n",
       "9724                  -nan                   -nan     0   \n",
       "9725                  -nan                   -nan     0   \n",
       "9726                  -nan                   -nan     0   \n",
       "9727                -nan\\n                 -nan\\n   0\\n   \n",
       "\n",
       "                   high_occ                low_occ  \n",
       "0                         5                      5  \n",
       "1      0.000112749105053979   0.000372144109106734  \n",
       "2      0.000140936381317473   0.000363648919576315  \n",
       "3      0.000169123657580968   0.000415168133502726  \n",
       "4      0.000281872762634947   0.000351865269582508  \n",
       "...                     ...                    ...  \n",
       "9723                      5                      5  \n",
       "9724                      5                      5  \n",
       "9725                      5                      5  \n",
       "9726                      5                      5  \n",
       "9727                    5\\n                    5\\n  \n",
       "\n",
       "[9728 rows x 8 columns]"
      ]
     },
     "execution_count": 3,
     "metadata": {},
     "output_type": "execute_result"
    }
   ],
   "source": [
    "PMTprocessor.read_file(filepath)"
   ]
  },
  {
   "cell_type": "markdown",
   "id": "37777c1b",
   "metadata": {},
   "source": [
    "### read all files in a folder into a dataframe"
   ]
  },
  {
   "cell_type": "code",
   "execution_count": null,
   "id": "3b542d0b",
   "metadata": {},
   "outputs": [],
   "source": [
    "PMTprocessor.read_files(folderpath)"
   ]
  },
  {
   "cell_type": "markdown",
   "id": "2ccfdf9b",
   "metadata": {},
   "source": [
    "### clean your dataframe "
   ]
  },
  {
   "cell_type": "code",
   "execution_count": null,
   "id": "b00e1f14",
   "metadata": {},
   "outputs": [],
   "source": [
    "PMTprocessor.overall_data_clean(folderpath)"
   ]
  },
  {
   "cell_type": "markdown",
   "id": "4a85e108",
   "metadata": {},
   "source": [
    "### extract the first five rows"
   ]
  },
  {
   "cell_type": "code",
   "execution_count": null,
   "id": "54472e8b",
   "metadata": {},
   "outputs": [],
   "source": [
    "# PMTprocessor.first_five_column(folderpath)\n",
    "PMTprocessor.relocate_5_columns(folderpath)"
   ]
  },
  {
   "cell_type": "markdown",
   "id": "0ba30dcd",
   "metadata": {},
   "source": [
    "### extract the first five rows, and complete the whole range of charge"
   ]
  },
  {
   "cell_type": "code",
   "execution_count": null,
   "id": "3e785676",
   "metadata": {},
   "outputs": [],
   "source": [
    "PMTprocessor.data_completion(folderpath)"
   ]
  },
  {
   "cell_type": "markdown",
   "id": "b58c5250",
   "metadata": {},
   "source": [
    "### pie chart using all rows"
   ]
  },
  {
   "cell_type": "code",
   "execution_count": null,
   "id": "b974f859",
   "metadata": {},
   "outputs": [],
   "source": [
    "PMTprocessor.pie_all_rows(folderpath)"
   ]
  },
  {
   "cell_type": "markdown",
   "id": "cf77493a",
   "metadata": {},
   "source": [
    "### reproduce the SNO+ preliminary graph"
   ]
  },
  {
   "cell_type": "code",
   "execution_count": null,
   "id": "c9d68607",
   "metadata": {},
   "outputs": [],
   "source": [
    "PMTprocessor.SNOPreliminary(folderpath)"
   ]
  },
  {
   "cell_type": "markdown",
   "id": "6f75aa7b",
   "metadata": {},
   "source": [
    "### one-to-one scatter plot"
   ]
  },
  {
   "cell_type": "code",
   "execution_count": null,
   "id": "aa0e2853",
   "metadata": {},
   "outputs": [],
   "source": [
    "PMTprocessor.scatter_5_columns(folderpath)"
   ]
  },
  {
   "cell_type": "markdown",
   "id": "05b1b1f1",
   "metadata": {},
   "source": [
    "### LPA model, only on qhs_neg and qhs_main"
   ]
  },
  {
   "cell_type": "code",
   "execution_count": 4,
   "id": "35b37248",
   "metadata": {},
   "outputs": [
    {
     "data": {
      "text/html": [
       "<div>\n",
       "<style scoped>\n",
       "    .dataframe tbody tr th:only-of-type {\n",
       "        vertical-align: middle;\n",
       "    }\n",
       "\n",
       "    .dataframe tbody tr th {\n",
       "        vertical-align: top;\n",
       "    }\n",
       "\n",
       "    .dataframe thead th {\n",
       "        text-align: right;\n",
       "    }\n",
       "</style>\n",
       "<table border=\"1\" class=\"dataframe\">\n",
       "  <thead>\n",
       "    <tr style=\"text-align: right;\">\n",
       "      <th></th>\n",
       "      <th>qhs_neg</th>\n",
       "      <th>qhs_main</th>\n",
       "      <th>pred_label</th>\n",
       "    </tr>\n",
       "  </thead>\n",
       "  <tbody>\n",
       "    <tr>\n",
       "      <th>5</th>\n",
       "      <td>0.000230</td>\n",
       "      <td>0.998850</td>\n",
       "      <td>0</td>\n",
       "    </tr>\n",
       "    <tr>\n",
       "      <th>21</th>\n",
       "      <td>0.000000</td>\n",
       "      <td>0.996441</td>\n",
       "      <td>0</td>\n",
       "    </tr>\n",
       "    <tr>\n",
       "      <th>25</th>\n",
       "      <td>0.334787</td>\n",
       "      <td>0.688469</td>\n",
       "      <td>1</td>\n",
       "    </tr>\n",
       "    <tr>\n",
       "      <th>27</th>\n",
       "      <td>0.587713</td>\n",
       "      <td>0.444115</td>\n",
       "      <td>1</td>\n",
       "    </tr>\n",
       "    <tr>\n",
       "      <th>28</th>\n",
       "      <td>0.630463</td>\n",
       "      <td>0.407360</td>\n",
       "      <td>1</td>\n",
       "    </tr>\n",
       "    <tr>\n",
       "      <th>...</th>\n",
       "      <td>...</td>\n",
       "      <td>...</td>\n",
       "      <td>...</td>\n",
       "    </tr>\n",
       "    <tr>\n",
       "      <th>9689</th>\n",
       "      <td>0.000000</td>\n",
       "      <td>0.980488</td>\n",
       "      <td>0</td>\n",
       "    </tr>\n",
       "    <tr>\n",
       "      <th>9692</th>\n",
       "      <td>0.000000</td>\n",
       "      <td>0.989437</td>\n",
       "      <td>0</td>\n",
       "    </tr>\n",
       "    <tr>\n",
       "      <th>9693</th>\n",
       "      <td>0.000000</td>\n",
       "      <td>0.995646</td>\n",
       "      <td>0</td>\n",
       "    </tr>\n",
       "    <tr>\n",
       "      <th>9694</th>\n",
       "      <td>0.000916</td>\n",
       "      <td>0.989011</td>\n",
       "      <td>0</td>\n",
       "    </tr>\n",
       "    <tr>\n",
       "      <th>9695</th>\n",
       "      <td>0.000000</td>\n",
       "      <td>0.980892</td>\n",
       "      <td>0</td>\n",
       "    </tr>\n",
       "  </tbody>\n",
       "</table>\n",
       "<p>8638 rows × 3 columns</p>\n",
       "</div>"
      ],
      "text/plain": [
       "       qhs_neg  qhs_main  pred_label\n",
       "5     0.000230  0.998850           0\n",
       "21    0.000000  0.996441           0\n",
       "25    0.334787  0.688469           1\n",
       "27    0.587713  0.444115           1\n",
       "28    0.630463  0.407360           1\n",
       "...        ...       ...         ...\n",
       "9689  0.000000  0.980488           0\n",
       "9692  0.000000  0.989437           0\n",
       "9693  0.000000  0.995646           0\n",
       "9694  0.000916  0.989011           0\n",
       "9695  0.000000  0.980892           0\n",
       "\n",
       "[8638 rows x 3 columns]"
      ]
     },
     "execution_count": 4,
     "metadata": {},
     "output_type": "execute_result"
    }
   ],
   "source": [
    "PMTprocessor.LPA_neg_main(folderpath)"
   ]
  },
  {
   "cell_type": "markdown",
   "id": "d919c603",
   "metadata": {},
   "source": [
    "### visualize that model (may take some time)"
   ]
  },
  {
   "cell_type": "code",
   "execution_count": null,
   "id": "a4d8406a",
   "metadata": {},
   "outputs": [],
   "source": [
    "PMTprocessor.graphLPA_neg_main(folderpath)"
   ]
  },
  {
   "cell_type": "markdown",
   "id": "11d72f03",
   "metadata": {},
   "source": [
    "### LPA model, using all columns"
   ]
  },
  {
   "cell_type": "code",
   "execution_count": 8,
   "id": "9ac952dc",
   "metadata": {},
   "outputs": [
    {
     "ename": "AttributeError",
     "evalue": "module 'PMTprocessor' has no attribute 'LPAall_v2'",
     "output_type": "error",
     "traceback": [
      "\u001b[0;31m---------------------------------------------------------------------------\u001b[0m",
      "\u001b[0;31mAttributeError\u001b[0m                            Traceback (most recent call last)",
      "Input \u001b[0;32mIn [8]\u001b[0m, in \u001b[0;36m<cell line: 1>\u001b[0;34m()\u001b[0m\n\u001b[0;32m----> 1\u001b[0m \u001b[43mPMTprocessor\u001b[49m\u001b[38;5;241;43m.\u001b[39;49m\u001b[43mLPAall_v2\u001b[49m(folderpath)\n",
      "\u001b[0;31mAttributeError\u001b[0m: module 'PMTprocessor' has no attribute 'LPAall_v2'"
     ]
    }
   ],
   "source": [
    "PMTprocessor.LPAall_v2(folderpath)"
   ]
  },
  {
   "cell_type": "code",
   "execution_count": null,
   "id": "95ed514f",
   "metadata": {},
   "outputs": [],
   "source": []
  }
 ],
 "metadata": {
  "kernelspec": {
   "display_name": "Python 3 (ipykernel)",
   "language": "python",
   "name": "python3"
  },
  "language_info": {
   "codemirror_mode": {
    "name": "ipython",
    "version": 3
   },
   "file_extension": ".py",
   "mimetype": "text/x-python",
   "name": "python",
   "nbconvert_exporter": "python",
   "pygments_lexer": "ipython3",
   "version": "3.9.12"
  }
 },
 "nbformat": 4,
 "nbformat_minor": 5
}
